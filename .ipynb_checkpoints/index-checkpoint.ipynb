{
 "cells": [
  {
   "cell_type": "markdown",
   "metadata": {},
   "source": [
    "## Introduction <a id=\"toc\"></a>\n",
    "\n",
    "### Table of Contents\n",
    "1. [Import Data](#data)\n",
    "2. [Scatter Plot](#scatter)\n",
    "3. [Feature Engineering: Calculating Slooe](#slope)\n",
    "4. [Histogram](#hist)\n",
    "5. [Summary Statistics](#sumstats)\n",
    "6. [Initial Model](#model1)\n",
    "7. [Residual Sum of Squares](#rss)\n",
    "4. [Gradient Descent](#grad_desc)"
   ]
  },
  {
   "cell_type": "markdown",
   "metadata": {},
   "source": [
    "## 1. Import Data <a id=\"data\"></a>\n",
    "To start, we'll need to import some data in order to perform our regression.  \n",
    "Import the 'movie_data.xlsx' file as a pandas DataFrame and assign it to the variable 'df'."
   ]
  },
  {
   "cell_type": "code",
   "execution_count": null,
   "metadata": {},
   "outputs": [],
   "source": [
    "#import the 'movie_data.xlsx' file as a pandas DataFrame and assign it to the variable df here."
   ]
  },
  {
   "cell_type": "code",
   "execution_count": 1,
   "metadata": {},
   "outputs": [],
   "source": [
    "import pandas as pd"
   ]
  },
  {
   "cell_type": "code",
   "execution_count": 59,
   "metadata": {},
   "outputs": [],
   "source": [
    "df = pd.DataFrame(data)"
   ]
  },
  {
   "cell_type": "code",
   "execution_count": 60,
   "metadata": {},
   "outputs": [
    {
     "data": {
      "text/html": [
       "<div>\n",
       "<style scoped>\n",
       "    .dataframe tbody tr th:only-of-type {\n",
       "        vertical-align: middle;\n",
       "    }\n",
       "\n",
       "    .dataframe tbody tr th {\n",
       "        vertical-align: top;\n",
       "    }\n",
       "\n",
       "    .dataframe thead th {\n",
       "        text-align: right;\n",
       "    }\n",
       "</style>\n",
       "<table border=\"1\" class=\"dataframe\">\n",
       "  <thead>\n",
       "    <tr style=\"text-align: right;\">\n",
       "      <th></th>\n",
       "      <th>budget</th>\n",
       "      <th>domgross</th>\n",
       "      <th>title</th>\n",
       "    </tr>\n",
       "  </thead>\n",
       "  <tbody>\n",
       "    <tr>\n",
       "      <th>0</th>\n",
       "      <td>13000000</td>\n",
       "      <td>25682380.0</td>\n",
       "      <td>21 &amp;amp; Over</td>\n",
       "    </tr>\n",
       "    <tr>\n",
       "      <th>1</th>\n",
       "      <td>45658735</td>\n",
       "      <td>13414714.0</td>\n",
       "      <td>Dredd 3D</td>\n",
       "    </tr>\n",
       "    <tr>\n",
       "      <th>2</th>\n",
       "      <td>20000000</td>\n",
       "      <td>53107035.0</td>\n",
       "      <td>12 Years a Slave</td>\n",
       "    </tr>\n",
       "    <tr>\n",
       "      <th>3</th>\n",
       "      <td>61000000</td>\n",
       "      <td>75612460.0</td>\n",
       "      <td>2 Guns</td>\n",
       "    </tr>\n",
       "    <tr>\n",
       "      <th>4</th>\n",
       "      <td>40000000</td>\n",
       "      <td>95020213.0</td>\n",
       "      <td>42</td>\n",
       "    </tr>\n",
       "  </tbody>\n",
       "</table>\n",
       "</div>"
      ],
      "text/plain": [
       "     budget    domgross             title\n",
       "0  13000000  25682380.0     21 &amp; Over\n",
       "1  45658735  13414714.0          Dredd 3D\n",
       "2  20000000  53107035.0  12 Years a Slave\n",
       "3  61000000  75612460.0            2 Guns\n",
       "4  40000000  95020213.0                42"
      ]
     },
     "execution_count": 60,
     "metadata": {},
     "output_type": "execute_result"
    }
   ],
   "source": [
    "df.head()"
   ]
  },
  {
   "cell_type": "markdown",
   "metadata": {},
   "source": [
    "## 2. Scatter Plot <a id=\"scatter\"></a>  \n",
    "Create a Scatter Plot of the budget and  Domestic Gross (domgross)"
   ]
  },
  {
   "cell_type": "code",
   "execution_count": 9,
   "metadata": {},
   "outputs": [],
   "source": [
    "%matplotlib inline\n",
    "import matplotlib.pyplot as plt"
   ]
  },
  {
   "cell_type": "code",
   "execution_count": 10,
   "metadata": {},
   "outputs": [
    {
     "data": {
      "text/plain": [
       "<matplotlib.collections.PathCollection at 0x11cba9e80>"
      ]
     },
     "execution_count": 10,
     "metadata": {},
     "output_type": "execute_result"
    },
    {
     "data": {
      "image/png": "[encoded data removed]",
      "text/plain": [
       "<Figure size 432x288 with 1 Axes>"
      ]
     },
     "metadata": {},
     "output_type": "display_data"
    }
   ],
   "source": [
    "plt.scatter(df.budget, df.domgross)"
   ]
  },
  {
   "cell_type": "markdown",
   "metadata": {},
   "source": [
    "Hopefully you see some (weak) correlation.\n",
    "\n",
    "Let's start thinking about linear regression in a little more depth. \n",
    "Here, we have a simple 2 variable relation. You might remember the infamous equation y=mx+b from when you took Algebra. Here we're trying to determine how the Domestic Gross Sales is related to the movie's budget. \n",
    "\n",
    "x - budget\n",
    "y - domestic gross sales\n",
    "\n",
    "Let's also assume that b=0 in the equation y=m*x+b.\n",
    "\n",
    "Thus we have y=m*x+0 and solving for m, y/x=m.\n",
    "\n",
    "Let's investigate this relationship further."
   ]
  },
  {
   "cell_type": "markdown",
   "metadata": {},
   "source": [
    "## 3. Feature Engineering: Calculating Slope <a id=\"slope\"></a>\n",
    "Create a new column m=y/x, the ratio of a movie's domestic gross sales to it's budget."
   ]
  },
  {
   "cell_type": "code",
   "execution_count": 11,
   "metadata": {},
   "outputs": [],
   "source": [
    "df['m'] = df.domgross/df.budget #write a formula to create the new column"
   ]
  },
  {
   "cell_type": "code",
   "execution_count": 12,
   "metadata": {},
   "outputs": [
    {
     "data": {
      "text/html": [
       "<div>\n",
       "<style scoped>\n",
       "    .dataframe tbody tr th:only-of-type {\n",
       "        vertical-align: middle;\n",
       "    }\n",
       "\n",
       "    .dataframe tbody tr th {\n",
       "        vertical-align: top;\n",
       "    }\n",
       "\n",
       "    .dataframe thead th {\n",
       "        text-align: right;\n",
       "    }\n",
       "</style>\n",
       "<table border=\"1\" class=\"dataframe\">\n",
       "  <thead>\n",
       "    <tr style=\"text-align: right;\">\n",
       "      <th></th>\n",
       "      <th>budget</th>\n",
       "      <th>domgross</th>\n",
       "      <th>title</th>\n",
       "      <th>m</th>\n",
       "    </tr>\n",
       "  </thead>\n",
       "  <tbody>\n",
       "    <tr>\n",
       "      <th>0</th>\n",
       "      <td>13000000</td>\n",
       "      <td>25682380.0</td>\n",
       "      <td>21 &amp;amp; Over</td>\n",
       "      <td>1.975568</td>\n",
       "    </tr>\n",
       "    <tr>\n",
       "      <th>1</th>\n",
       "      <td>45658735</td>\n",
       "      <td>13414714.0</td>\n",
       "      <td>Dredd 3D</td>\n",
       "      <td>0.293804</td>\n",
       "    </tr>\n",
       "    <tr>\n",
       "      <th>2</th>\n",
       "      <td>20000000</td>\n",
       "      <td>53107035.0</td>\n",
       "      <td>12 Years a Slave</td>\n",
       "      <td>2.655352</td>\n",
       "    </tr>\n",
       "    <tr>\n",
       "      <th>3</th>\n",
       "      <td>61000000</td>\n",
       "      <td>75612460.0</td>\n",
       "      <td>2 Guns</td>\n",
       "      <td>1.239549</td>\n",
       "    </tr>\n",
       "    <tr>\n",
       "      <th>4</th>\n",
       "      <td>40000000</td>\n",
       "      <td>95020213.0</td>\n",
       "      <td>42</td>\n",
       "      <td>2.375505</td>\n",
       "    </tr>\n",
       "  </tbody>\n",
       "</table>\n",
       "</div>"
      ],
      "text/plain": [
       "     budget    domgross             title         m\n",
       "0  13000000  25682380.0     21 &amp; Over  1.975568\n",
       "1  45658735  13414714.0          Dredd 3D  0.293804\n",
       "2  20000000  53107035.0  12 Years a Slave  2.655352\n",
       "3  61000000  75612460.0            2 Guns  1.239549\n",
       "4  40000000  95020213.0                42  2.375505"
      ]
     },
     "execution_count": 12,
     "metadata": {},
     "output_type": "execute_result"
    }
   ],
   "source": [
    "df.head()"
   ]
  },
  {
   "cell_type": "markdown",
   "metadata": {},
   "source": [
    "## 4. Histogram <a id=\"hist\"></a>  \n",
    "Let's investigate the slope a bit more statistically.\n",
    "Visualize the distribution of m using a histogram."
   ]
  },
  {
   "cell_type": "code",
   "execution_count": 13,
   "metadata": {},
   "outputs": [
    {
     "data": {
      "text/plain": [
       "<matplotlib.axes._subplots.AxesSubplot at 0x11cd184a8>"
      ]
     },
     "execution_count": 13,
     "metadata": {},
     "output_type": "execute_result"
    },
    {
     "data": {
      "image/png": "[encoded data removed]",
      "text/plain": [
       "<Figure size 432x288 with 1 Axes>"
      ]
     },
     "metadata": {},
     "output_type": "display_data"
    }
   ],
   "source": [
    "df.m.hist() #Write code to display m as a histogram"
   ]
  },
  {
   "cell_type": "markdown",
   "metadata": {},
   "source": [
    "## 5. Summary Statistics <a id=\"sumstats\"></a> . \n",
    "Calculate the mean and median of m."
   ]
  },
  {
   "cell_type": "code",
   "execution_count": 14,
   "metadata": {},
   "outputs": [
    {
     "name": "stdout",
     "output_type": "stream",
     "text": [
      "Mean: 1.574873371518024, Median: 1.3310858237179488\n"
     ]
    }
   ],
   "source": [
    "mean = df.m.mean()\n",
    "median = df.m.median()\n",
    "print('Mean: {}, Median: {}'.format(mean, median))"
   ]
  },
  {
   "cell_type": "markdown",
   "metadata": {},
   "source": [
    "## 6. Initial Model <a id=\"model1\"></a>\n",
    "Create two initial models using these summary statistics.  \n",
    "Each will be a linear model using that summary statistic to predict the gross domestic sales using a movie's budget.\n",
    "Plot the data as a scatter plot and then draw each of these predictive models on top of the data. Be sure to include a title and use appropriate labels for the x and y axis."
   ]
  },
  {
   "cell_type": "code",
   "execution_count": 15,
   "metadata": {},
   "outputs": [],
   "source": [
    "import numpy as np"
   ]
  },
  {
   "cell_type": "code",
   "execution_count": 24,
   "metadata": {},
   "outputs": [
    {
     "data": {
      "text/plain": [
       "<matplotlib.legend.Legend at 0x11ebdceb8>"
      ]
     },
     "execution_count": 24,
     "metadata": {},
     "output_type": "execute_result"
    },
    {
     "data": {
      "image/png": "[encoded data removed]",
      "text/plain": [
       "<Figure size 432x288 with 1 Axes>"
      ]
     },
     "metadata": {},
     "output_type": "display_data"
    }
   ],
   "source": [
    "#Starter code\n",
    "#In order to graph y = 1.575*x and y = 1.331*x,\n",
    "#we'll generate a series of x-values and then calculate their associated y-values.\n",
    "#Here's some x values to get you started.\n",
    "x = np.linspace(start=df.budget.min(), stop=df.budget.max(), num=10**5)\n",
    "\n",
    "#Calculate their corresponding y-values and plot the results on your graph.\n",
    "#Don't forget to also graph the original data.\n",
    "\n",
    "#Visual code here\n",
    "plt.scatter(x, 1.575*x, label='Mean Ratio Model')\n",
    "plt.scatter(x, 1.331*x, label='Median Ratio Model')\n",
    "plt.scatter(df.budget, df.domgross, label='Actual Data Points')\n",
    "plt.title('Gross Domestic Sales vs. Budget', fontsize=20)\n",
    "plt.xlabel('Budget', fontsize=16)\n",
    "plt.ylabel('Gross Domestic Sales', fontsize=16)\n",
    "plt.legend(bbox_to_anchor=(1,1))"
   ]
  },
  {
   "cell_type": "markdown",
   "metadata": {},
   "source": [
    "## 7. Residual Sum of Squares <a id=\"rss\"></a>\n",
    "### a. Write an error function to calculate the residual sum of squares for a given model.  \n",
    "Your function should take in 3 inputs:\n",
    " * a list of x values\n",
    " * a list of y values (corresponding to the x values passed)\n",
    " * a list of $\\hat{y}$ values produced by the model (corresponding to the x values passed)"
   ]
  },
  {
   "cell_type": "markdown",
   "metadata": {},
   "source": [
    "\n",
    "### b. Now use your residual sum of squares function to evaluate each of the previous 2 models."
   ]
  },
  {
   "cell_type": "code",
   "execution_count": 44,
   "metadata": {},
   "outputs": [
    {
     "name": "stdout",
     "output_type": "stream",
     "text": [
      "Residual Sum of Squares for 1.575x: 5.473002195341657e+17\n",
      "Residual Sum of Squares for 1.331x: 3.908594504280841e+17\n"
     ]
    },
    {
     "data": {
      "text/html": [
       "<div>\n",
       "<style scoped>\n",
       "    .dataframe tbody tr th:only-of-type {\n",
       "        vertical-align: middle;\n",
       "    }\n",
       "\n",
       "    .dataframe tbody tr th {\n",
       "        vertical-align: top;\n",
       "    }\n",
       "\n",
       "    .dataframe thead th {\n",
       "        text-align: right;\n",
       "    }\n",
       "</style>\n",
       "<table border=\"1\" class=\"dataframe\">\n",
       "  <thead>\n",
       "    <tr style=\"text-align: right;\">\n",
       "      <th></th>\n",
       "      <th>budget</th>\n",
       "      <th>domgross</th>\n",
       "      <th>title</th>\n",
       "      <th>m</th>\n",
       "      <th>1.575x</th>\n",
       "      <th>1.331x</th>\n",
       "    </tr>\n",
       "  </thead>\n",
       "  <tbody>\n",
       "    <tr>\n",
       "      <th>0</th>\n",
       "      <td>13000000</td>\n",
       "      <td>25682380.0</td>\n",
       "      <td>21 &amp;amp; Over</td>\n",
       "      <td>1.975568</td>\n",
       "      <td>2.047500e+07</td>\n",
       "      <td>1.730300e+07</td>\n",
       "    </tr>\n",
       "    <tr>\n",
       "      <th>1</th>\n",
       "      <td>45658735</td>\n",
       "      <td>13414714.0</td>\n",
       "      <td>Dredd 3D</td>\n",
       "      <td>0.293804</td>\n",
       "      <td>7.191251e+07</td>\n",
       "      <td>6.077178e+07</td>\n",
       "    </tr>\n",
       "    <tr>\n",
       "      <th>2</th>\n",
       "      <td>20000000</td>\n",
       "      <td>53107035.0</td>\n",
       "      <td>12 Years a Slave</td>\n",
       "      <td>2.655352</td>\n",
       "      <td>3.150000e+07</td>\n",
       "      <td>2.662000e+07</td>\n",
       "    </tr>\n",
       "    <tr>\n",
       "      <th>3</th>\n",
       "      <td>61000000</td>\n",
       "      <td>75612460.0</td>\n",
       "      <td>2 Guns</td>\n",
       "      <td>1.239549</td>\n",
       "      <td>9.607500e+07</td>\n",
       "      <td>8.119100e+07</td>\n",
       "    </tr>\n",
       "    <tr>\n",
       "      <th>4</th>\n",
       "      <td>40000000</td>\n",
       "      <td>95020213.0</td>\n",
       "      <td>42</td>\n",
       "      <td>2.375505</td>\n",
       "      <td>6.300000e+07</td>\n",
       "      <td>5.324000e+07</td>\n",
       "    </tr>\n",
       "  </tbody>\n",
       "</table>\n",
       "</div>"
      ],
      "text/plain": [
       "     budget    domgross             title         m        1.575x  \\\n",
       "0  13000000  25682380.0     21 &amp; Over  1.975568  2.047500e+07   \n",
       "1  45658735  13414714.0          Dredd 3D  0.293804  7.191251e+07   \n",
       "2  20000000  53107035.0  12 Years a Slave  2.655352  3.150000e+07   \n",
       "3  61000000  75612460.0            2 Guns  1.239549  9.607500e+07   \n",
       "4  40000000  95020213.0                42  2.375505  6.300000e+07   \n",
       "\n",
       "         1.331x  \n",
       "0  1.730300e+07  \n",
       "1  6.077178e+07  \n",
       "2  2.662000e+07  \n",
       "3  8.119100e+07  \n",
       "4  5.324000e+07  "
      ]
     },
     "execution_count": 44,
     "metadata": {},
     "output_type": "execute_result"
    }
   ],
   "source": [
    "df['1.575x'] = df.budget.astype(float)*1.575\n",
    "df['1.331x'] = df.budget.astype(float)*1.331\n",
    "# df.head()\n",
    "def rss(residual_col):\n",
    "    return sum(residual_col.astype(float).map(lambda x: x**2))\n",
    "for col in ['1.575x','1.331x']:\n",
    "    print('Residual Sum of Squares for {}: {}'.format(col, rss(df[col])))\n",
    "df.head()"
   ]
  },
  {
   "cell_type": "markdown",
   "metadata": {},
   "source": [
    "## Error/Loss Functions\n",
    "\n",
    "From this you should see that the median ratio model produces a lower residual sum of squares. As such, this would be evaluated as our superior model of the two. In machine learning, we do just that; we provide an error or loss function to the learning algorithm which will then produce a model to minimize this error or loss.\n",
    "\n",
    "In this linear regression problem, we are looking for which m will produce the minimum residual sum of squares.\n",
    "\n",
    "Given,\n",
    "\n",
    "$\\hat{y} = m*x$\n",
    "\n",
    "Minimize  \n",
    "$ \\sum(\\hat{y}-y)^2$\n",
    "\n",
    "Write a function to calculate the rss for a given slope m.\n"
   ]
  },
  {
   "cell_type": "code",
   "execution_count": null,
   "metadata": {},
   "outputs": [],
   "source": [
    "def rss(x, y, m) #returns RSS for our data given some m"
   ]
  },
  {
   "cell_type": "code",
   "execution_count": 62,
   "metadata": {},
   "outputs": [],
   "source": [
    "def rss(residual_col):\n",
    "    return sum(residual_col.astype(float).map(lambda x: x**2))"
   ]
  },
  {
   "cell_type": "code",
   "execution_count": 64,
   "metadata": {},
   "outputs": [],
   "source": [
    "def error(x, y, m):\n",
    "    model = m * x\n",
    "    residuals = model - y\n",
    "    total_rss = rss(residuals)\n",
    "    return total_rss"
   ]
  },
  {
   "cell_type": "markdown",
   "metadata": {},
   "source": [
    "### Gradient Descent <a id=\"grad_desc\"></a>\n",
    "\n",
    "Now finally to use this function to find our optimal model!\n",
    "Here we'll use gradient descent. From calculus, you may recall that when working on optimization problems, we often turn to derivatives. Recall that the derivative of a function at a given point is the slope of the line tangent and the rate of change at that point. As a result, whenever we have a minimum or maximum the derivative will be zero:\n",
    "\n",
    "![](./images/maxmin2.gif)\n",
    "\n",
    "\n"
   ]
  },
  {
   "cell_type": "code",
   "execution_count": 129,
   "metadata": {},
   "outputs": [
    {
     "name": "stdout",
     "output_type": "stream",
     "text": [
      "1.08\n"
     ]
    },
    {
     "data": {
      "image/png": "[encoded data removed]",
      "text/plain": [
       "<Figure size 432x288 with 1 Axes>"
      ]
     },
     "metadata": {},
     "output_type": "display_data"
    }
   ],
   "source": [
    "ms = []\n",
    "errors = []\n",
    "for m in np.linspace(start=0.5, stop=1.5, num=101):\n",
    "    ms.append(m)\n",
    "    errors.append(error(df.budget, df.domgross, m))\n",
    "plt.scatter(ms ,errors)\n",
    "plt.scatter(ms[58], errors[58], color='red')\n",
    "print(ms[58])"
   ]
  },
  {
   "cell_type": "markdown",
   "metadata": {},
   "source": [
    "Write a gradient descent function. The function should take in 5 parameters:\n",
    "1. error_function; use the previous error function you defined above. we intend to minimize this\n",
    "2. step_size_coefficient; this will modify how large the steps we take are\n",
    "3. precision;  This will be a small parameter >= 0. \n",
    "               If an iteration does not change the result of the error function\n",
    "               by this amount or more the algorithm will terminate.\n",
    "4. max_iterations; Terminate the algorithm after this number of iterations.\n",
    "5. start_x; The original x-value to initialize gradient descent.\n",
    "\n",
    "Hint: Use the np.gradient() function to calculate the derivative at a given point for each iteration."
   ]
  },
  {
   "cell_type": "code",
   "execution_count": null,
   "metadata": {},
   "outputs": [],
   "source": [
    "def gradient_descent(error_function, step_size_coeff, max_iterations):\n",
    "    return optimal_solution"
   ]
  },
  {
   "cell_type": "code",
   "execution_count": null,
   "metadata": {},
   "outputs": [],
   "source": [
    "def gradient_descent(error_function, step_size_coeff, max_iterations, start_x):\n",
    "    iteration = 0 #initialize\n",
    "    cur_x = start_x\n",
    "    while (previous_step_size > precision) & (iteration < max_iterationss):\n",
    "        print('Current value: {} RSS Produced: {}'.format(cur_x, error(df.budget, df.domgross, cur_x)))\n",
    "        prev_x = cur_x\n",
    "        x_survey_region = np.linspace(start = cur_x - previous_step_size , stop = cur_x + previous_step_size , num = 101)\n",
    "        rss_survey_region = [np.sqrt(error(df.budget, df.domgross, m)) for m in x_survey_region]\n",
    "        gradient = np.gradient(rss_survey_region)[50] \n",
    "        cur_x -= gamma * gradient #Move opposite the gradient\n",
    "        previous_step_size = abs(cur_x - prev_x)\n",
    "        iteration += 1"
   ]
  },
  {
   "cell_type": "code",
   "execution_count": 145,
   "metadata": {},
   "outputs": [
    {
     "name": "stdout",
     "output_type": "stream",
     "text": [
      "1e-07\n",
      "Current value: 1.5 RSS Produced: 2.6084668957174013e+17\n",
      "Current value: 1.1330655714424849 RSS Produced: 2.217773053377032e+17\n",
      "Current value: 1.1131830522749038 RSS Produced: 2.2135715390729427e+17\n",
      "Current value: 1.1124754156940968 RSS Produced: 2.2134541499866915e+17\n",
      "Current value: 1.1124506992634804 RSS Produced: 2.213450089740645e+17\n",
      "Current value: 1.1124498365366668 RSS Produced: 2.2134499480664778e+17\n",
      "Current value: 1.1124498064238966 RSS Produced: 2.2134499431215165e+17\n",
      "Current value: 1.1124498053728342 RSS Produced: 2.2134499429489165e+17\n",
      "The local minimum occurs at 1.1124498053361447\n"
     ]
    }
   ],
   "source": [
    "cur_x = 1.5 # The algorithm starts at x=2\n",
    "gamma = 1*10**(-7) # step size multiplier\n",
    "print(gamma)\n",
    "precision = 0.0000000001\n",
    "previous_step_size = 1 \n",
    "max_iters = 10000 # maximum number of iterations\n",
    "iters = 0 #iteration counter\n",
    "\n",
    "while (previous_step_size > precision) & (iters < max_iters):\n",
    "    print('Current value: {} RSS Produced: {}'.format(cur_x, error(df.budget, df.domgross, cur_x)))\n",
    "    prev_x = cur_x\n",
    "    x_survey_region = np.linspace(start = cur_x - previous_step_size , stop = cur_x + previous_step_size , num = 101)\n",
    "    rss_survey_region = [np.sqrt(error(df.budget, df.domgross, m)) for m in x_survey_region]\n",
    "    gradient = np.gradient(rss_survey_region)[50] \n",
    "    cur_x -= gamma * gradient #Move opposite the gradient\n",
    "    previous_step_size = abs(cur_x - prev_x)\n",
    "    iters+=1\n",
    "\n",
    "print(\"The local minimum occurs at\", cur_x)\n",
    "#The output for the above will be: ('The local minimum occurs at', 2.2499646074278457)"
   ]
  }
 ],
 "metadata": {
  "kernelspec": {
   "display_name": "Python 3",
   "language": "python",
   "name": "python3"
  },
  "language_info": {
   "codemirror_mode": {
    "name": "ipython",
    "version": 3
   },
   "file_extension": ".py",
   "mimetype": "text/x-python",
   "name": "python",
   "nbconvert_exporter": "python",
   "pygments_lexer": "ipython3",
   "version": "3.6.5"
  }
 },
 "nbformat": 4,
 "nbformat_minor": 2
}
