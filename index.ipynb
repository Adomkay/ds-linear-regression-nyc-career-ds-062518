{
 "cells": [
  {
   "cell_type": "markdown",
   "metadata": {},
   "source": [
    "## Introduction <a id=\"toc\"></a>\n",
    "\n",
    "Today we're going to look at linear regression!\n",
    "\n",
    "### Table of Contents\n",
    "1. [Import Data](#data)\n",
    "2. [Scatter Plot](#scatter)\n",
    "3. [Feature Engineering: Calculating Slope](#slope)\n",
    "4. [Histogram](#hist)\n",
    "5. [Summary Statistics](#sumstats)\n",
    "6. [Initial Model](#model1)\n",
    "7. [Residual Sum of Squares](#rss)\n",
    "8. [Error Functions](#error)\n",
    "9. [Visualizing Loss](#vizloss)\n",
    "9. [Gradient Descent](#grad_desc)"
   ]
  },
  {
   "cell_type": "markdown",
   "metadata": {},
   "source": [
    "## 1. Import Data <a id=\"data\"></a>\n",
    "To start, we'll need to import some data in order to perform our regression.  \n",
    "Import the 'movie_data.xlsx' file as a pandas DataFrame and assign it to the variable 'df'."
   ]
  },
  {
   "cell_type": "code",
   "execution_count": 21,
   "metadata": {},
   "outputs": [],
   "source": [
    "#import the 'movie_data.xlsx' file as a pandas DataFrame and assign it to the variable df here."
   ]
  },
  {
   "cell_type": "markdown",
   "metadata": {},
   "source": [
    "## 2. Scatter Plot <a id=\"scatter\"></a>  \n",
    "Create a Scatter Plot of the budget and  Domestic Gross (domgross)"
   ]
  },
  {
   "cell_type": "code",
   "execution_count": 22,
   "metadata": {},
   "outputs": [],
   "source": [
    "%matplotlib inline\n",
    "import matplotlib.pyplot as plt"
   ]
  },
  {
   "cell_type": "code",
   "execution_count": 23,
   "metadata": {},
   "outputs": [],
   "source": [
    "# Scatter Plot"
   ]
  },
  {
   "cell_type": "markdown",
   "metadata": {},
   "source": [
    "Hopefully you see some (weak) correlation.\n",
    "\n",
    "Let's start thinking about linear regression in a little more depth. \n",
    "Here, we have a simple 2 variable relation. You might remember the infamous equation y=mx+b from when you took Algebra. Here we're trying to determine how the Domestic Gross Sales is related to the movie's budget. \n",
    "\n",
    "x - budget\n",
    "y - domestic gross sales\n",
    "\n",
    "Let's also assume that b=0 in the equation y=m*x+b.\n",
    "\n",
    "Thus we have y=m*x+0 and solving for m, y/x=m.\n",
    "\n",
    "Let's investigate this relationship further."
   ]
  },
  {
   "cell_type": "markdown",
   "metadata": {},
   "source": [
    "## 3. Feature Engineering: Calculating Slope <a id=\"slope\"></a>\n",
    "Create a new column m=y/x, the ratio of a movie's domestic gross sales to it's budget."
   ]
  },
  {
   "cell_type": "code",
   "execution_count": 24,
   "metadata": {},
   "outputs": [],
   "source": [
    "df['m'] = None #write a formula to create the new column"
   ]
  },
  {
   "cell_type": "markdown",
   "metadata": {},
   "source": [
    "## 4. Histogram <a id=\"hist\"></a>  \n",
    "Let's investigate the slope a bit more statistically.\n",
    "Visualize the distribution of m using a histogram."
   ]
  },
  {
   "cell_type": "code",
   "execution_count": 25,
   "metadata": {},
   "outputs": [],
   "source": [
    " #Write code to display m as a histogram"
   ]
  },
  {
   "cell_type": "markdown",
   "metadata": {},
   "source": [
    "## 5. Summary Statistics <a id=\"sumstats\"></a> . \n",
    "Calculate the mean and median of m."
   ]
  },
  {
   "cell_type": "code",
   "execution_count": 27,
   "metadata": {},
   "outputs": [
    {
     "name": "stdout",
     "output_type": "stream",
     "text": [
      "Mean: None, Median: None\n"
     ]
    }
   ],
   "source": [
    "mean = None #your code here\n",
    "median = None #your code here\n",
    "print('Mean: {}, Median: {}'.format(mean, median))"
   ]
  },
  {
   "cell_type": "markdown",
   "metadata": {},
   "source": [
    "## 6. Initial Model <a id=\"model1\"></a>\n",
    "Create two initial models using these summary statistics.  \n",
    "Each will be a linear model using that summary statistic to predict the gross domestic sales using a movie's budget.\n",
    "Plot the data as a scatter plot and then draw each of these predictive models on top of the data. Be sure to include a title and use appropriate labels for the x and y axis."
   ]
  },
  {
   "cell_type": "code",
   "execution_count": 28,
   "metadata": {},
   "outputs": [],
   "source": [
    "#Starter code\n",
    "#In order to graph y = 1.575*x and y = 1.331*x,\n",
    "#we'll generate a series of x-values and then calculate their associated y-values.\n",
    "#Here's some x values to get you started.\n",
    "x = np.linspace(start=df.budget.min(), stop=df.budget.max(), num=10**5)\n",
    "\n",
    "#Calculate their corresponding y-values and plot the results on your graph.\n",
    "#Don't forget to also graph the original data.\n",
    "\n",
    "#Visual code here\n",
    "#Include title, xlabel, ylabel, and legend ~7 lines total"
   ]
  },
  {
   "cell_type": "markdown",
   "metadata": {},
   "source": [
    "## 7. Residual Sum of Squares <a id=\"rss\"></a>\n",
    "### a. Write an error function to calculate the residual sum of squares for a given model.  \n",
    "Your function should take in 3 inputs:\n",
    " * a list of x values\n",
    " * a list of y values (corresponding to the x values passed)\n",
    " * a list of $\\hat{y}$ values produced by the model (corresponding to the x values passed)"
   ]
  },
  {
   "cell_type": "markdown",
   "metadata": {},
   "source": [
    "\n",
    "### b. Now use your residual sum of squares function to evaluate each of the previous 2 models."
   ]
  },
  {
   "cell_type": "code",
   "execution_count": 29,
   "metadata": {},
   "outputs": [],
   "source": [
    "#Your code here"
   ]
  },
  {
   "cell_type": "markdown",
   "metadata": {},
   "source": [
    "## Error/Loss Functions\n",
    "\n",
    "From this you should see that the median ratio model produces a lower residual sum of squares. As such, this would be evaluated as our superior model of the two. In machine learning, we do just that; we provide an error or loss function to the learning algorithm which will then produce a model to minimize this error or loss.\n",
    "\n",
    "In this linear regression problem, we are looking for which m will produce the minimum residual sum of squares.\n",
    "\n",
    "Given,\n",
    "\n",
    "$\\hat{y} = m*x$\n",
    "\n",
    "Minimize  \n",
    "$ \\sum(\\hat{y}-y)^2$\n",
    "\n",
    "### 8. Write a function to calculate the rss for a given slope m. <a id=\"error\"></a>\n"
   ]
  },
  {
   "cell_type": "code",
   "execution_count": 30,
   "metadata": {},
   "outputs": [],
   "source": [
    "def error(x, y, m):\n",
    "    return error"
   ]
  },
  {
   "cell_type": "markdown",
   "metadata": {},
   "source": [
    "### Gradient Descent\n",
    "\n",
    "Now finally to use this function to find our optimal model!\n",
    "Here we'll use gradient descent. From calculus, you may recall that when working on optimization problems, we often turn to derivatives. Recall that the derivative of a function at a given point is the slope of the line tangent and the rate of change at that point. As a result, whenever we have a minimum or maximum the derivative will be zero:\n",
    "\n",
    "![](./images/maxmin2.gif)\n",
    "\n",
    "\n",
    "The idea of gradient descent is we take smaller and smaller steps downhill, converging in upon a minimum. There are some caveats to this process, such as finding local minimum rather then global, but the process helps guide our search in navigating an n-dimensional space for an optimal solution."
   ]
  },
  {
   "cell_type": "markdown",
   "metadata": {},
   "source": [
    "### 9. Visualizing the Loss Function <a id=\"vizloss\"></a>\n",
    "a. Create a range of reasonbale values for m.  \n",
    "b. Then calculate their associated rss scores using your error function.  \n",
    "c. Plot them on a graph.  "
   ]
  },
  {
   "cell_type": "code",
   "execution_count": 31,
   "metadata": {},
   "outputs": [],
   "source": [
    "#Scatter Plot Code Here"
   ]
  },
  {
   "cell_type": "markdown",
   "metadata": {},
   "source": [
    "### 10. Gradient Descent. <a id=\"grad_desc\"></a>\n",
    "Now it's time to put all of this together and write a gradient descent function.  \n",
    "This is ultimately the tool we will use to tune our model and find the optimal solution.  \n",
    "The function should take in 5 parameters:\n",
    "1. error_function; use the previous error function you defined above. we intend to minimize this\n",
    "2. step_size_coefficient; this will modify how large the steps we take are\n",
    "3. precision;  This will be a small parameter >= 0. \n",
    "               If an iteration does not change the result of the error function\n",
    "               by this amount or more the algorithm will terminate.\n",
    "4. max_iterations; Terminate the algorithm after this number of iterations.\n",
    "5. start_x; The original x-value to initialize gradient descent.\n",
    "\n",
    "**Hint:** Use the np.gradient() function to calculate the derivative at a given point for each iteration."
   ]
  },
  {
   "cell_type": "code",
   "execution_count": 33,
   "metadata": {},
   "outputs": [],
   "source": [
    "# def gradient_descent(error_function, step_size_coeff, max_iterations, start_x):\n",
    "    #Step 1 create a while loop that executes until the difference between one iteration and the next is less then the precision value\n",
    "    #Step 2 calculate the gradient (the derivative)\n",
    "    #Step 3 take a step in that direction\n",
    "    #Iterate!"
   ]
  },
  {
   "cell_type": "markdown",
   "metadata": {},
   "source": [
    "## [Back to Top](#toc)"
   ]
  }
 ],
 "metadata": {
  "kernelspec": {
   "display_name": "Python 3",
   "language": "python",
   "name": "python3"
  },
  "language_info": {
   "codemirror_mode": {
    "name": "ipython",
    "version": 3
   },
   "file_extension": ".py",
   "mimetype": "text/x-python",
   "name": "python",
   "nbconvert_exporter": "python",
   "pygments_lexer": "ipython3",
   "version": "3.6.4"
  }
 },
 "nbformat": 4,
 "nbformat_minor": 2
}
